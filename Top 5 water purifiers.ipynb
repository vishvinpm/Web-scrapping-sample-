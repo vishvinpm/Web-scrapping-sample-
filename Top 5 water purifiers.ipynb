{
 "cells": [
  {
   "cell_type": "code",
   "execution_count": 5,
   "id": "563723c4-f83f-4652-9abc-0c91e269d031",
   "metadata": {},
   "outputs": [
    {
     "name": "stderr",
     "output_type": "stream",
     "text": [
      "[nltk_data] Downloading package stopwords to\n",
      "[nltk_data]     C:\\Users\\Vishnu\\AppData\\Roaming\\nltk_data...\n",
      "[nltk_data]   Package stopwords is already up-to-date!\n"
     ]
    }
   ],
   "source": [
    "\n",
    "import nltk\n",
    "import bs4 as bs\n",
    "import requests\n",
    "import re\n",
    "from nltk.corpus import stopwords\n",
    "nltk.download(\"stopwords\")\n",
    "\n",
    "import urllib"
   ]
  },
  {
   "cell_type": "code",
   "execution_count": 6,
   "id": "3e9eb3ca-f2d1-45d3-97c4-acce2ec951f9",
   "metadata": {},
   "outputs": [],
   "source": [
    "url = \"https://www.livemint.com/technology/gadgets/top-5-best-water-purifiers-in-india-2025-ideal-for-indian-homes-battling-hard-water-and-impurities-for-safe-drinking-11748061235456.html\""
   ]
  },
  {
   "cell_type": "code",
   "execution_count": 7,
   "id": "a7485fcd-07b6-4f97-91ff-47a586d8c43f",
   "metadata": {},
   "outputs": [],
   "source": [
    "#header and user agent\n",
    "Headers = {\"User-Agent\":\"Mozilla/5.0 (Windows NT 10.0; Win64; x64) AppleWebKit/537.36 (KHTML, like Gecko) Chrome/137.0.0.0 Safari/537.36\"}"
   ]
  },
  {
   "cell_type": "code",
   "execution_count": 8,
   "id": "8f2fd96f-a078-46fa-adff-25148dd37440",
   "metadata": {},
   "outputs": [],
   "source": [
    "page = requests.get(url, headers=Headers)"
   ]
  },
  {
   "cell_type": "code",
   "execution_count": 9,
   "id": "e46b05ed-5354-4723-86d9-b982437df2f8",
   "metadata": {},
   "outputs": [
    {
     "data": {
      "text/plain": [
       "bytes"
      ]
     },
     "execution_count": 9,
     "metadata": {},
     "output_type": "execute_result"
    }
   ],
   "source": [
    "type(page.content)"
   ]
  },
  {
   "cell_type": "code",
   "execution_count": null,
   "id": "02f0b839",
   "metadata": {},
   "outputs": [],
   "source": []
  },
  {
   "cell_type": "code",
   "execution_count": 15,
   "id": "223763f8-346f-45b7-8253-bbc79afa7e38",
   "metadata": {},
   "outputs": [],
   "source": [
    "#changing the bytes into html format\n",
    "soup = bs.BeautifulSoup(page.content, \"html.parser\")"
   ]
  },
  {
   "cell_type": "code",
   "execution_count": 17,
   "id": "3d3acb61-d856-4e3c-918a-1e78d35123d0",
   "metadata": {},
   "outputs": [
    {
     "data": {
      "text/plain": [
       "bs4.BeautifulSoup"
      ]
     },
     "execution_count": 17,
     "metadata": {},
     "output_type": "execute_result"
    }
   ],
   "source": [
    "type(soup)"
   ]
  },
  {
   "cell_type": "code",
   "execution_count": 18,
   "id": "88078f86-ea5f-468e-a0d9-7bcedc284cf6",
   "metadata": {},
   "outputs": [],
   "source": [
    "#getting the body with all details\n",
    "table_body = soup.select(\"tbody > tr\")"
   ]
  },
  {
   "cell_type": "code",
   "execution_count": 19,
   "id": "1176576e-441c-4c1f-9ac5-8f521b03469a",
   "metadata": {},
   "outputs": [
    {
     "data": {
      "text/plain": [
       "[<tr><td class=\"product-table-column-1\"><div class=\"product-des-box\" data-vars-element=\"description\"><p>best water purifier 2025</p><strong>Aquaguard Marvel NXT 8-Stage Alkaline Tech, Stainless Steel Tank Water Purifier | Up to 60% Water Savings | RO+UV+Alkaline Boost Tech | Taste Adjuster | Suitable for Tanker, Borewell &amp; Municipal Water</strong><span class=\"product-table-link\" data-vars-element=\"check_details\">View Details<img alt=\"...\" loading=\"lazy\" src=\"https://shopnow.hindustantimes.com/static-img/10s/chevron_right.png\"/></span></div></td><td class=\"product-table-column-2\"></td><td class=\"product-table-column-3\"><div class=\"product-pricing-box\" data-vars-element=\"pricing\"><p class=\"product-new-pricing\" data-vars-element=\"new_price\">₹14,999</p></div></td></tr>,\n",
       " <tr class=\"border-bottom-row\"><td class=\"product-table-column-1\"></td><td class=\"product-table-column-2\"><div class=\"amazon-img-box\" data-vars-element=\"amazon_logo\"><img alt=\"...\" loading=\"lazy\" src=\"https://images.hindustantimes.com/shop-now/images/amazon-in-logo.png\"/></div></td><td class=\"product-table-column-3\"><div class=\"product-buy-btn\" data-vars-element=\"buy_now_cta\"><a data-vars-element=\"buy_now_cta\" href=\"https://www.amazon.in/dp/B0CJJ2CPXX?tag=htdigitalstre-21&amp;linkCode=osi&amp;th=1&amp;psc=1\" rel=\"nofollow sponsored\" target=\"_blank\">Get This</a></div></td></tr>,\n",
       " <tr><td class=\"product-table-column-1\"><div class=\"product-des-box\" data-vars-element=\"description\"><p>TDS control purifier</p><strong>KENT Supreme Alkaline RO Water Purifier | Advanced RO Tech for Sabse Shudh Paani | RO+UV+UF+Alkaline+TDS Control+UV LED Tank | Auto flush | 8L | 20LPH | Ideal for Borewell/Tanker/Municipal Water</strong><span class=\"product-table-link\" data-vars-element=\"check_details\">View Details<img alt=\"...\" loading=\"lazy\" src=\"https://shopnow.hindustantimes.com/static-img/10s/chevron_right.png\"/></span></div></td><td class=\"product-table-column-2\"></td><td class=\"product-table-column-3\"><div class=\"product-pricing-box\" data-vars-element=\"pricing\"><p class=\"product-new-pricing\" data-vars-element=\"new_price\">₹14,499</p></div></td></tr>,\n",
       " <tr class=\"border-bottom-row\"><td class=\"product-table-column-1\"></td><td class=\"product-table-column-2\"><div class=\"amazon-img-box\" data-vars-element=\"amazon_logo\"><img alt=\"...\" loading=\"lazy\" src=\"https://images.hindustantimes.com/shop-now/images/amazon-in-logo.png\"/></div></td><td class=\"product-table-column-3\"><div class=\"product-buy-btn\" data-vars-element=\"buy_now_cta\"><a data-vars-element=\"buy_now_cta\" href=\"https://www.amazon.in/dp/B09F2FW4ZK?tag=htdigitalstre-21&amp;linkCode=osi&amp;th=1&amp;psc=1\" rel=\"nofollow sponsored\" target=\"_blank\">Get This</a></div></td></tr>,\n",
       " <tr><td class=\"product-table-column-1\"><div class=\"product-des-box\" data-vars-element=\"description\"><p>Eco water saver purifier</p><strong>Pureit Eco Water Saver RO+UV+MF+Mineral | 7-Stage | 10L | Up to 60% Saving | Suitable for Borewell, Tanker &amp; Municipal Supply | Table Top | Wall Mountable | Black</strong><span class=\"product-table-link\" data-vars-element=\"check_details\">View Details<img alt=\"...\" loading=\"lazy\" src=\"https://shopnow.hindustantimes.com/static-img/10s/chevron_right.png\"/></span></div></td><td class=\"product-table-column-2\"></td><td class=\"product-table-column-3\"><div class=\"product-pricing-box\" data-vars-element=\"pricing\"><p class=\"product-new-pricing\" data-vars-element=\"new_price\">₹12,999</p></div></td></tr>,\n",
       " <tr class=\"border-bottom-row\"><td class=\"product-table-column-1\"></td><td class=\"product-table-column-2\"><div class=\"amazon-img-box\" data-vars-element=\"amazon_logo\"><img alt=\"...\" loading=\"lazy\" src=\"https://images.hindustantimes.com/shop-now/images/amazon-in-logo.png\"/></div></td><td class=\"product-table-column-3\"><div class=\"product-buy-btn\" data-vars-element=\"buy_now_cta\"><a data-vars-element=\"buy_now_cta\" href=\"https://www.amazon.in/dp/B08BJN4MP3?tag=htdigitalstre-21&amp;linkCode=osi&amp;th=1&amp;psc=1\" rel=\"nofollow sponsored\" target=\"_blank\">Get This</a></div></td></tr>,\n",
       " <tr><td class=\"product-table-column-1\"><div class=\"product-des-box\" data-vars-element=\"description\"><p></p><strong>Urban Company Native M2 Water Purifier | Needs No Service for 2 Years | RO+UV+Copper+Alkaline |10-Stage Purifier | 4-in-1 Health Booster | Smart IoT Features | 8L Capacity | 2 Year Warranty</strong><span class=\"product-table-link\" data-vars-element=\"check_details\">View Details<img alt=\"...\" loading=\"lazy\" src=\"https://shopnow.hindustantimes.com/static-img/10s/chevron_right.png\"/></span></div></td><td class=\"product-table-column-2\"></td><td class=\"product-table-column-3\"><div class=\"product-pricing-box\" data-vars-element=\"pricing\"><p class=\"product-new-pricing\" data-vars-element=\"new_price\">₹18,499</p></div></td></tr>,\n",
       " <tr class=\"border-bottom-row\"><td class=\"product-table-column-1\"></td><td class=\"product-table-column-2\"><div class=\"amazon-img-box\" data-vars-element=\"amazon_logo\"><img alt=\"...\" loading=\"lazy\" src=\"https://images.hindustantimes.com/shop-now/images/amazon-in-logo.png\"/></div></td><td class=\"product-table-column-3\"><div class=\"product-buy-btn\" data-vars-element=\"buy_now_cta\"><a data-vars-element=\"buy_now_cta\" href=\"https://www.amazon.in/dp/B0D7HG2GZD?tag=htdigitalstre-21&amp;linkCode=osi&amp;th=1&amp;psc=1\" rel=\"nofollow sponsored\" target=\"_blank\">Get This</a></div></td></tr>,\n",
       " <tr><td class=\"product-table-column-1\"><div class=\"product-des-box\" data-vars-element=\"description\"><p>Copper RO water filter</p><strong>AO Smith Z5 Pro RO Alkaline Water Purifier With CFM+SCMT | RO Purifier With Advanced 8-stage Purification | Copper Fortified Water|Perfect For Municipal, Tanker &amp; Borewell Water</strong><span class=\"product-table-link\" data-vars-element=\"check_details\">View Details<img alt=\"...\" loading=\"lazy\" src=\"https://shopnow.hindustantimes.com/static-img/10s/chevron_right.png\"/></span></div></td><td class=\"product-table-column-2\"></td><td class=\"product-table-column-3\"><div class=\"product-pricing-box\" data-vars-element=\"pricing\"><p class=\"product-new-pricing\" data-vars-element=\"new_price\">₹15,999</p></div></td></tr>,\n",
       " <tr class=\"border-bottom-row\"><td class=\"product-table-column-1\"></td><td class=\"product-table-column-2\"><div class=\"amazon-img-box\" data-vars-element=\"amazon_logo\"><img alt=\"...\" loading=\"lazy\" src=\"https://images.hindustantimes.com/shop-now/images/amazon-in-logo.png\"/></div></td><td class=\"product-table-column-3\"><div class=\"product-buy-btn\" data-vars-element=\"buy_now_cta\"><a data-vars-element=\"buy_now_cta\" href=\"https://www.amazon.in/dp/B0D1XL2D78?tag=htdigitalstre-21&amp;linkCode=osi&amp;th=1&amp;psc=1\" rel=\"nofollow sponsored\" target=\"_blank\">Get This</a></div></td></tr>,\n",
       " <tr><td><strong>Top 5 Best Water Purifiers in India 2025</strong></td><td><strong>Technology Used</strong></td><td><strong>Mineral Enrichment</strong></td><td><strong>Special Features</strong></td></tr>,\n",
       " <tr><td>Aquaguard Marvel Water Purifier</td><td>RO + UV + Alkaline Boost</td><td>Alkaline Boost Technology</td><td>Taste Adjuster, Stainless Steel Tank, Up to 60% Water Saving</td></tr>,\n",
       " <tr><td>Kent Supreme Alkaline RO Water Purifier</td><td>RO + UV + UF + Alkaline</td><td>Alkaline and TDS Control</td><td>Auto Flush, UV LED Tank, Suitable for Borewell/Tanker/Municipal Water</td></tr>,\n",
       " <tr><td>Pureit Eco Water Saver Water Purifier</td><td>RO + UV + MF + Mineral</td><td>Mineral Cartridge</td><td>Up to 60% Water Saving, Table Top &amp; Wall Mountable</td></tr>,\n",
       " <tr><td>Urban Company Native M2 Water Purifier</td><td>RO + UV + Copper + Alkaline</td><td>Copper and Alkaline</td><td>Needs No Service for 2 Years, Smart IoT Features, 4-in-1 Health Booster</td></tr>,\n",
       " <tr><td>AO Smith Z5 Pro Water Purifier</td><td>RO + UV + CFM + SCMT</td><td>Copper Fortified Water</td><td>No External Pre-filter, Suitable for Municipal, Tanker &amp; Borewell Water</td></tr>]"
      ]
     },
     "execution_count": 19,
     "metadata": {},
     "output_type": "execute_result"
    }
   ],
   "source": [
    "table_body"
   ]
  },
  {
   "cell_type": "code",
   "execution_count": 20,
   "id": "158c80d5-17de-4e87-833f-05d7960f47c9",
   "metadata": {},
   "outputs": [
    {
     "data": {
      "text/plain": [
       "16"
      ]
     },
     "execution_count": 20,
     "metadata": {},
     "output_type": "execute_result"
    }
   ],
   "source": [
    "len(table_body)"
   ]
  },
  {
   "cell_type": "code",
   "execution_count": 21,
   "id": "353cdee0-078e-4a3c-8fe3-fbf06ec12914",
   "metadata": {},
   "outputs": [
    {
     "data": {
      "text/plain": [
       "<tr><td class=\"product-table-column-1\"><div class=\"product-des-box\" data-vars-element=\"description\"><p>best water purifier 2025</p><strong>Aquaguard Marvel NXT 8-Stage Alkaline Tech, Stainless Steel Tank Water Purifier | Up to 60% Water Savings | RO+UV+Alkaline Boost Tech | Taste Adjuster | Suitable for Tanker, Borewell &amp; Municipal Water</strong><span class=\"product-table-link\" data-vars-element=\"check_details\">View Details<img alt=\"...\" loading=\"lazy\" src=\"https://shopnow.hindustantimes.com/static-img/10s/chevron_right.png\"/></span></div></td><td class=\"product-table-column-2\"></td><td class=\"product-table-column-3\"><div class=\"product-pricing-box\" data-vars-element=\"pricing\"><p class=\"product-new-pricing\" data-vars-element=\"new_price\">₹14,999</p></div></td></tr>"
      ]
     },
     "execution_count": 21,
     "metadata": {},
     "output_type": "execute_result"
    }
   ],
   "source": [
    "table_body[0]"
   ]
  },
  {
   "cell_type": "code",
   "execution_count": 22,
   "id": "e35135ad-b911-47b8-9063-0252bb54b016",
   "metadata": {},
   "outputs": [
    {
     "data": {
      "text/plain": [
       "<tr class=\"border-bottom-row\"><td class=\"product-table-column-1\"></td><td class=\"product-table-column-2\"><div class=\"amazon-img-box\" data-vars-element=\"amazon_logo\"><img alt=\"...\" loading=\"lazy\" src=\"https://images.hindustantimes.com/shop-now/images/amazon-in-logo.png\"/></div></td><td class=\"product-table-column-3\"><div class=\"product-buy-btn\" data-vars-element=\"buy_now_cta\"><a data-vars-element=\"buy_now_cta\" href=\"https://www.amazon.in/dp/B0CJJ2CPXX?tag=htdigitalstre-21&amp;linkCode=osi&amp;th=1&amp;psc=1\" rel=\"nofollow sponsored\" target=\"_blank\">Get This</a></div></td></tr>"
      ]
     },
     "execution_count": 22,
     "metadata": {},
     "output_type": "execute_result"
    }
   ],
   "source": [
    "table_body[1]"
   ]
  },
  {
   "cell_type": "markdown",
   "id": "dfc842b6-3c32-434c-9a64-a5869cbfbcba",
   "metadata": {},
   "source": [
    "- The name and other details are in the first item in the list.\n",
    "- The links are provided in the second item"
   ]
  },
  {
   "cell_type": "code",
   "execution_count": 23,
   "id": "01980375-d530-433c-aacb-aaa29b97090c",
   "metadata": {},
   "outputs": [
    {
     "name": "stdout",
     "output_type": "stream",
     "text": [
      "<class 'bs4.element.ResultSet'>\n",
      "[<strong>Aquaguard Marvel NXT 8-Stage Alkaline Tech, Stainless Steel Tank Water Purifier | Up to 60% Water Savings | RO+UV+Alkaline Boost Tech | Taste Adjuster | Suitable for Tanker, Borewell &amp; Municipal Water</strong>]\n"
     ]
    }
   ],
   "source": [
    "#getting the name and details tag of the water purifier\n",
    "nt = table_body[0].select(\"div.product-des-box strong\")\n",
    "print(type(nt))\n",
    "print(nt)"
   ]
  },
  {
   "cell_type": "code",
   "execution_count": 24,
   "id": "ef660dbc-868b-4023-9ad7-4fd285418f72",
   "metadata": {},
   "outputs": [
    {
     "name": "stdout",
     "output_type": "stream",
     "text": [
      "<class 'str'>\n",
      "Aquaguard Marvel NXT 8-Stage Alkaline Tech, Stainless Steel Tank Water Purifier | Up to 60% Water Savings | RO+UV+Alkaline Boost Tech | Taste Adjuster | Suitable for Tanker, Borewell & Municipal Water\n"
     ]
    }
   ],
   "source": [
    "#name and details\n",
    "n = nt[0].get_text(strip = True)\n",
    "print(type(n))\n",
    "print(n)"
   ]
  },
  {
   "cell_type": "code",
   "execution_count": 25,
   "id": "5ed7ec34-4809-4f7e-8b38-72e587195fab",
   "metadata": {},
   "outputs": [
    {
     "name": "stdout",
     "output_type": "stream",
     "text": [
      "<a data-vars-element=\"buy_now_cta\" href=\"https://www.amazon.in/dp/B0CJJ2CPXX?tag=htdigitalstre-21&amp;linkCode=osi&amp;th=1&amp;psc=1\" rel=\"nofollow sponsored\" target=\"_blank\">Get This</a>\n"
     ]
    }
   ],
   "source": [
    "#the amazon link tag\n",
    "lt = table_body[1].select_one(\"div.product-buy-btn a\")\n",
    "print(lt)"
   ]
  },
  {
   "cell_type": "code",
   "execution_count": 26,
   "id": "a7e9c6a3-7892-41c4-bc91-7ff8ab731bb2",
   "metadata": {},
   "outputs": [
    {
     "name": "stdout",
     "output_type": "stream",
     "text": [
      "https://www.amazon.in/dp/B0CJJ2CPXX?tag=htdigitalstre-21&linkCode=osi&th=1&psc=1\n"
     ]
    }
   ],
   "source": [
    "#extracting the link\n",
    "l = lt[\"href\"]\n",
    "print(l)"
   ]
  },
  {
   "cell_type": "code",
   "execution_count": 27,
   "id": "f0701987-be43-48f8-a9a7-016e29741119",
   "metadata": {},
   "outputs": [
    {
     "name": "stdout",
     "output_type": "stream",
     "text": [
      "<p class=\"product-new-pricing\" data-vars-element=\"new_price\">₹14,999</p>\n"
     ]
    }
   ],
   "source": [
    "#price tag\n",
    "pt = table_body[0].select_one(\"p.product-new-pricing\")\n",
    "print(pt)"
   ]
  },
  {
   "cell_type": "code",
   "execution_count": 28,
   "id": "f5adb422-f986-43ec-a774-bd9226f1a20c",
   "metadata": {},
   "outputs": [
    {
     "name": "stdout",
     "output_type": "stream",
     "text": [
      "₹14,999\n"
     ]
    }
   ],
   "source": [
    "#price\n",
    "p = pt.get_text(strip =True)\n",
    "print(p)"
   ]
  },
  {
   "cell_type": "code",
   "execution_count": null,
   "id": "7fb549e6-f202-4247-897f-f4ee18d9569a",
   "metadata": {},
   "outputs": [],
   "source": []
  },
  {
   "cell_type": "code",
   "execution_count": 29,
   "id": "17fb3588-c609-42b5-96e8-0882a6c66b22",
   "metadata": {},
   "outputs": [],
   "source": [
    "#defining a function to extraact the name, price and amazon link of the top 5 water purifiers\n",
    "product_details = []\n",
    "\n",
    "for i in range(0, len(table_body), 2) :\n",
    "    try:\n",
    "        r1 = table_body[i]\n",
    "        r2 = table_body[i+1]\n",
    "\n",
    "        #name with details\n",
    "        name_tag = r1.select_one(\"div.product-des-box strong\")\n",
    "        name = name_tag.get_text(strip = True) if name_tag else \"No result\"\n",
    "\n",
    "        #price\n",
    "        price_tag = r1.select_one(\"p.product-new-pricing\")\n",
    "        price = price_tag.get_text(strip = True) if price_tag else \"No result\"\n",
    "\n",
    "        #link\n",
    "        link_tag = r2.select_one(\"div.product-buy-btn a\")\n",
    "        link = link_tag[\"href\"] if link_tag else \"No result\"\n",
    "\n",
    "        product_details.append({\"name\" : name,\n",
    "                                \"price\" : price,\n",
    "                                \"amazon link\" : link})\n",
    "    except Exception as e:\n",
    "        print(f\"Error at row {i}: {e}\")"
   ]
  },
  {
   "cell_type": "code",
   "execution_count": 30,
   "id": "971486e4-9459-4480-a0c9-0eacb0b7f9b6",
   "metadata": {},
   "outputs": [
    {
     "data": {
      "text/plain": [
       "[{'name': 'Aquaguard Marvel NXT 8-Stage Alkaline Tech, Stainless Steel Tank Water Purifier | Up to 60% Water Savings | RO+UV+Alkaline Boost Tech | Taste Adjuster | Suitable for Tanker, Borewell & Municipal Water',\n",
       "  'price': '₹14,999',\n",
       "  'amazon link': 'https://www.amazon.in/dp/B0CJJ2CPXX?tag=htdigitalstre-21&linkCode=osi&th=1&psc=1'},\n",
       " {'name': 'KENT Supreme Alkaline RO Water Purifier | Advanced RO Tech for Sabse Shudh Paani | RO+UV+UF+Alkaline+TDS Control+UV LED Tank | Auto flush | 8L | 20LPH | Ideal for Borewell/Tanker/Municipal Water',\n",
       "  'price': '₹14,499',\n",
       "  'amazon link': 'https://www.amazon.in/dp/B09F2FW4ZK?tag=htdigitalstre-21&linkCode=osi&th=1&psc=1'},\n",
       " {'name': 'Pureit Eco Water Saver RO+UV+MF+Mineral | 7-Stage | 10L | Up to 60% Saving | Suitable for Borewell, Tanker & Municipal Supply | Table Top | Wall Mountable | Black',\n",
       "  'price': '₹12,999',\n",
       "  'amazon link': 'https://www.amazon.in/dp/B08BJN4MP3?tag=htdigitalstre-21&linkCode=osi&th=1&psc=1'},\n",
       " {'name': 'Urban Company Native M2 Water Purifier | Needs No Service for 2 Years | RO+UV+Copper+Alkaline |10-Stage Purifier | 4-in-1 Health Booster | Smart IoT Features | 8L Capacity | 2 Year Warranty',\n",
       "  'price': '₹18,499',\n",
       "  'amazon link': 'https://www.amazon.in/dp/B0D7HG2GZD?tag=htdigitalstre-21&linkCode=osi&th=1&psc=1'},\n",
       " {'name': 'AO Smith Z5 Pro RO Alkaline Water Purifier With CFM+SCMT | RO Purifier With Advanced 8-stage Purification | Copper Fortified Water|Perfect For Municipal, Tanker & Borewell Water',\n",
       "  'price': '₹15,999',\n",
       "  'amazon link': 'https://www.amazon.in/dp/B0D1XL2D78?tag=htdigitalstre-21&linkCode=osi&th=1&psc=1'},\n",
       " {'name': 'No result', 'price': 'No result', 'amazon link': 'No result'},\n",
       " {'name': 'No result', 'price': 'No result', 'amazon link': 'No result'},\n",
       " {'name': 'No result', 'price': 'No result', 'amazon link': 'No result'}]"
      ]
     },
     "execution_count": 30,
     "metadata": {},
     "output_type": "execute_result"
    }
   ],
   "source": [
    "product_details"
   ]
  },
  {
   "cell_type": "code",
   "execution_count": 31,
   "id": "4a9ca3dd-1443-44d6-9f56-aacdd5d0fe48",
   "metadata": {},
   "outputs": [
    {
     "name": "stdout",
     "output_type": "stream",
     "text": [
      "1. Aquaguard Marvel NXT 8-Stage Alkaline Tech, Stainless Steel Tank Water Purifier | Up to 60% Water Savings | RO+UV+Alkaline Boost Tech | Taste Adjuster | Suitable for Tanker, Borewell & Municipal Water | ₹14,999 | https://www.amazon.in/dp/B0CJJ2CPXX?tag=htdigitalstre-21&linkCode=osi&th=1&psc=1\n",
      "2. KENT Supreme Alkaline RO Water Purifier | Advanced RO Tech for Sabse Shudh Paani | RO+UV+UF+Alkaline+TDS Control+UV LED Tank | Auto flush | 8L | 20LPH | Ideal for Borewell/Tanker/Municipal Water | ₹14,499 | https://www.amazon.in/dp/B09F2FW4ZK?tag=htdigitalstre-21&linkCode=osi&th=1&psc=1\n",
      "3. Pureit Eco Water Saver RO+UV+MF+Mineral | 7-Stage | 10L | Up to 60% Saving | Suitable for Borewell, Tanker & Municipal Supply | Table Top | Wall Mountable | Black | ₹12,999 | https://www.amazon.in/dp/B08BJN4MP3?tag=htdigitalstre-21&linkCode=osi&th=1&psc=1\n",
      "4. Urban Company Native M2 Water Purifier | Needs No Service for 2 Years | RO+UV+Copper+Alkaline |10-Stage Purifier | 4-in-1 Health Booster | Smart IoT Features | 8L Capacity | 2 Year Warranty | ₹18,499 | https://www.amazon.in/dp/B0D7HG2GZD?tag=htdigitalstre-21&linkCode=osi&th=1&psc=1\n",
      "5. AO Smith Z5 Pro RO Alkaline Water Purifier With CFM+SCMT | RO Purifier With Advanced 8-stage Purification | Copper Fortified Water|Perfect For Municipal, Tanker & Borewell Water | ₹15,999 | https://www.amazon.in/dp/B0D1XL2D78?tag=htdigitalstre-21&linkCode=osi&th=1&psc=1\n"
     ]
    }
   ],
   "source": [
    "#printing the top 5 water purifiers with their details and amazon link\n",
    "\n",
    "for i, product in enumerate(product_details[:5], start = 1) :\n",
    "    print(f\"{i}. {product['name']} | {product['price']} | {product['amazon link']}\")"
   ]
  },
  {
   "cell_type": "markdown",
   "id": "0fd312dd-d1a3-443c-92cf-f9cd5fde0e52",
   "metadata": {},
   "source": [
    "We only need the name, specification, price and the link. Let us extract those details"
   ]
  },
  {
   "cell_type": "code",
   "execution_count": 32,
   "id": "e0d48e9a-49b7-41d1-8edf-799d3c0bc8ca",
   "metadata": {},
   "outputs": [],
   "source": [
    "product_details = product_details[:5]"
   ]
  },
  {
   "cell_type": "code",
   "execution_count": 33,
   "id": "667e3f81-172c-4f0b-8d9e-93b0d79920c9",
   "metadata": {},
   "outputs": [
    {
     "data": {
      "text/plain": [
       "[{'name': 'Aquaguard Marvel NXT 8-Stage Alkaline Tech, Stainless Steel Tank Water Purifier | Up to 60% Water Savings | RO+UV+Alkaline Boost Tech | Taste Adjuster | Suitable for Tanker, Borewell & Municipal Water',\n",
       "  'price': '₹14,999',\n",
       "  'amazon link': 'https://www.amazon.in/dp/B0CJJ2CPXX?tag=htdigitalstre-21&linkCode=osi&th=1&psc=1'},\n",
       " {'name': 'KENT Supreme Alkaline RO Water Purifier | Advanced RO Tech for Sabse Shudh Paani | RO+UV+UF+Alkaline+TDS Control+UV LED Tank | Auto flush | 8L | 20LPH | Ideal for Borewell/Tanker/Municipal Water',\n",
       "  'price': '₹14,499',\n",
       "  'amazon link': 'https://www.amazon.in/dp/B09F2FW4ZK?tag=htdigitalstre-21&linkCode=osi&th=1&psc=1'},\n",
       " {'name': 'Pureit Eco Water Saver RO+UV+MF+Mineral | 7-Stage | 10L | Up to 60% Saving | Suitable for Borewell, Tanker & Municipal Supply | Table Top | Wall Mountable | Black',\n",
       "  'price': '₹12,999',\n",
       "  'amazon link': 'https://www.amazon.in/dp/B08BJN4MP3?tag=htdigitalstre-21&linkCode=osi&th=1&psc=1'},\n",
       " {'name': 'Urban Company Native M2 Water Purifier | Needs No Service for 2 Years | RO+UV+Copper+Alkaline |10-Stage Purifier | 4-in-1 Health Booster | Smart IoT Features | 8L Capacity | 2 Year Warranty',\n",
       "  'price': '₹18,499',\n",
       "  'amazon link': 'https://www.amazon.in/dp/B0D7HG2GZD?tag=htdigitalstre-21&linkCode=osi&th=1&psc=1'},\n",
       " {'name': 'AO Smith Z5 Pro RO Alkaline Water Purifier With CFM+SCMT | RO Purifier With Advanced 8-stage Purification | Copper Fortified Water|Perfect For Municipal, Tanker & Borewell Water',\n",
       "  'price': '₹15,999',\n",
       "  'amazon link': 'https://www.amazon.in/dp/B0D1XL2D78?tag=htdigitalstre-21&linkCode=osi&th=1&psc=1'}]"
      ]
     },
     "execution_count": 33,
     "metadata": {},
     "output_type": "execute_result"
    }
   ],
   "source": [
    "product_details"
   ]
  },
  {
   "cell_type": "code",
   "execution_count": 34,
   "id": "679b2d20-eac8-4c3e-b593-7b755fedc575",
   "metadata": {},
   "outputs": [],
   "source": [
    "Dict_ = [\"RO\", \"UV\", \"Alkaline\", \"TDS\", \"Mineral\", \"Copper\"]"
   ]
  },
  {
   "cell_type": "code",
   "execution_count": 35,
   "id": "605121e9-63f9-4622-972b-871122c47ed6",
   "metadata": {},
   "outputs": [],
   "source": [
    "prd = product_details[0].copy()"
   ]
  },
  {
   "cell_type": "code",
   "execution_count": 36,
   "id": "6cf3d05c-1326-41bf-9adc-9f095f439647",
   "metadata": {},
   "outputs": [
    {
     "data": {
      "text/plain": [
       "{'name': 'Aquaguard Marvel NXT 8-Stage Alkaline Tech, Stainless Steel Tank Water Purifier | Up to 60% Water Savings | RO+UV+Alkaline Boost Tech | Taste Adjuster | Suitable for Tanker, Borewell & Municipal Water',\n",
       " 'price': '₹14,999',\n",
       " 'amazon link': 'https://www.amazon.in/dp/B0CJJ2CPXX?tag=htdigitalstre-21&linkCode=osi&th=1&psc=1'}"
      ]
     },
     "execution_count": 36,
     "metadata": {},
     "output_type": "execute_result"
    }
   ],
   "source": [
    "prd"
   ]
  },
  {
   "cell_type": "code",
   "execution_count": 37,
   "id": "6b7be51f-8c7d-4afb-8b92-2ee6ad0c23c0",
   "metadata": {},
   "outputs": [
    {
     "data": {
      "text/plain": [
       "['Aquaguard Marvel NXT 8-Stage Alkaline Tech, Stainless Steel Tank Water Purifier ',\n",
       " ' Up to 60% Water Savings ',\n",
       " ' RO+UV+Alkaline Boost Tech ',\n",
       " ' Taste Adjuster ',\n",
       " ' Suitable for Tanker, Borewell & Municipal Water']"
      ]
     },
     "execution_count": 37,
     "metadata": {},
     "output_type": "execute_result"
    }
   ],
   "source": [
    "splt = prd[\"name\"].split(\"|\")\n",
    "splt"
   ]
  },
  {
   "cell_type": "code",
   "execution_count": 38,
   "id": "fcf9a5e2-8ac7-4aab-8cad-8bc08ecb9512",
   "metadata": {},
   "outputs": [
    {
     "data": {
      "text/plain": [
       "'Aquaguard Marvel NXT 8-Stage Alkaline Tech, Stainless Steel Tank Water Purifier'"
      ]
     },
     "execution_count": 38,
     "metadata": {},
     "output_type": "execute_result"
    }
   ],
   "source": [
    "name = splt[0].strip()\n",
    "name"
   ]
  },
  {
   "cell_type": "code",
   "execution_count": 39,
   "id": "2ffb225f-4143-4d74-944b-5f7042b3705f",
   "metadata": {},
   "outputs": [
    {
     "data": {
      "text/plain": [
       "'RO+UV+Alkaline Boost Tech'"
      ]
     },
     "execution_count": 39,
     "metadata": {},
     "output_type": "execute_result"
    }
   ],
   "source": [
    "#specs\n",
    "spcs = next((p.strip() for p in splt[1:] if any(words in p for words in Dict_)), \"No result\")\n",
    "spcs"
   ]
  },
  {
   "cell_type": "markdown",
   "id": "d565e1cf-d48d-41af-9652-2ddbd3c5148e",
   "metadata": {},
   "source": [
    "Let us create a function to extract the name, specifications, price and link only"
   ]
  },
  {
   "cell_type": "code",
   "execution_count": 40,
   "id": "862b4772-f408-45fb-b3a1-c312b61df97b",
   "metadata": {},
   "outputs": [],
   "source": [
    "class Product:\n",
    "    def __init__(self, name, price, amazon_link):\n",
    "        self.name = name\n",
    "        self.price = price\n",
    "        self.amazon_link = amazon_link\n",
    "        self.keywords = [\"RO\", \"UV\", \"Alkaline\", \"TDS\", \"Mineral\", \"Copper\"]\n",
    "\n",
    "    def extract_name(self):\n",
    "        return self.name.split(\"|\")[0].strip() \n",
    "\n",
    "    def specifications(self):\n",
    "        parts = self.name.split(\"|\")[1:]\n",
    "        # collect all parts that contain any of the keywords\n",
    "        specs = [p.strip() for p in parts if any(word in p for word in self.keywords)]\n",
    "        return \", \".join(specs) if specs else \"No result\"\n",
    "\n",
    "    def final(self):\n",
    "        clean_name = self.extract_name()\n",
    "        specs = self.specifications()\n",
    "        return f\"{clean_name}, {specs}, {self.price}, {self.amazon_link}\"\n"
   ]
  },
  {
   "cell_type": "code",
   "execution_count": 41,
   "id": "ce0b2b0b-28a7-41e8-9b02-64785b256714",
   "metadata": {},
   "outputs": [],
   "source": [
    "#class to manage all the products\n",
    "class ListOfProducts :\n",
    "    def __init__(self, product_data) :\n",
    "        self.products = [Product(p[\"name\"], p[\"price\"], p[\"amazon link\"]) for p in product_data]\n",
    "\n",
    "    def show_products(self) :\n",
    "        for i, product in enumerate(self.products, start = 1) :\n",
    "            print(f\"{i}, {product.final()}\")"
   ]
  },
  {
   "cell_type": "code",
   "execution_count": 42,
   "id": "41839d35-d601-4258-aa83-d77c97932c6d",
   "metadata": {},
   "outputs": [
    {
     "name": "stdout",
     "output_type": "stream",
     "text": [
      "1, Aquaguard Marvel NXT 8-Stage Alkaline Tech, Stainless Steel Tank Water Purifier, RO+UV+Alkaline Boost Tech, ₹14,999, https://www.amazon.in/dp/B0CJJ2CPXX?tag=htdigitalstre-21&linkCode=osi&th=1&psc=1\n",
      "2, KENT Supreme Alkaline RO Water Purifier, Advanced RO Tech for Sabse Shudh Paani, RO+UV+UF+Alkaline+TDS Control+UV LED Tank, ₹14,499, https://www.amazon.in/dp/B09F2FW4ZK?tag=htdigitalstre-21&linkCode=osi&th=1&psc=1\n",
      "3, Pureit Eco Water Saver RO+UV+MF+Mineral, No result, ₹12,999, https://www.amazon.in/dp/B08BJN4MP3?tag=htdigitalstre-21&linkCode=osi&th=1&psc=1\n",
      "4, Urban Company Native M2 Water Purifier, RO+UV+Copper+Alkaline, ₹18,499, https://www.amazon.in/dp/B0D7HG2GZD?tag=htdigitalstre-21&linkCode=osi&th=1&psc=1\n",
      "5, AO Smith Z5 Pro RO Alkaline Water Purifier With CFM+SCMT, RO Purifier With Advanced 8-stage Purification, Copper Fortified Water, ₹15,999, https://www.amazon.in/dp/B0D1XL2D78?tag=htdigitalstre-21&linkCode=osi&th=1&psc=1\n"
     ]
    }
   ],
   "source": [
    "#using the defined classes\n",
    "\n",
    "list_of_products = ListOfProducts(product_details)\n",
    "list_of_products.show_products()"
   ]
  },
  {
   "cell_type": "code",
   "execution_count": null,
   "id": "56f0fd75-bd0c-49c1-92d9-929bd41bffa8",
   "metadata": {},
   "outputs": [],
   "source": []
  },
  {
   "cell_type": "code",
   "execution_count": 45,
   "id": "0b67fbf9-56f8-4514-9bf1-e2257efee1b8",
   "metadata": {},
   "outputs": [],
   "source": [
    "#converting the list of products into a dataframe\n",
    "import pandas as pd\n",
    "\n",
    "data = []\n",
    "for i in list_of_products.products :\n",
    "    data.append({\n",
    "        \"Name\" : i.extract_name(),\n",
    "        \"Features\": i.specifications(),\n",
    "        \"Price\" : i.price,\n",
    "        \"Amazon link\" : i.amazon_link\n",
    "    })\n",
    "\n",
    "df = pd.DataFrame(data)"
   ]
  },
  {
   "cell_type": "code",
   "execution_count": 46,
   "id": "8cf325b0-52d8-44b3-a260-32052a0be47a",
   "metadata": {},
   "outputs": [
    {
     "data": {
      "text/html": [
       "<div>\n",
       "<style scoped>\n",
       "    .dataframe tbody tr th:only-of-type {\n",
       "        vertical-align: middle;\n",
       "    }\n",
       "\n",
       "    .dataframe tbody tr th {\n",
       "        vertical-align: top;\n",
       "    }\n",
       "\n",
       "    .dataframe thead th {\n",
       "        text-align: right;\n",
       "    }\n",
       "</style>\n",
       "<table border=\"1\" class=\"dataframe\">\n",
       "  <thead>\n",
       "    <tr style=\"text-align: right;\">\n",
       "      <th></th>\n",
       "      <th>Name</th>\n",
       "      <th>Features</th>\n",
       "      <th>Price</th>\n",
       "      <th>Amazon link</th>\n",
       "    </tr>\n",
       "  </thead>\n",
       "  <tbody>\n",
       "    <tr>\n",
       "      <th>0</th>\n",
       "      <td>Aquaguard Marvel NXT 8-Stage Alkaline Tech, St...</td>\n",
       "      <td>RO+UV+Alkaline Boost Tech</td>\n",
       "      <td>₹14,999</td>\n",
       "      <td>https://www.amazon.in/dp/B0CJJ2CPXX?tag=htdigi...</td>\n",
       "    </tr>\n",
       "    <tr>\n",
       "      <th>1</th>\n",
       "      <td>KENT Supreme Alkaline RO Water Purifier</td>\n",
       "      <td>Advanced RO Tech for Sabse Shudh Paani, RO+UV+...</td>\n",
       "      <td>₹14,499</td>\n",
       "      <td>https://www.amazon.in/dp/B09F2FW4ZK?tag=htdigi...</td>\n",
       "    </tr>\n",
       "    <tr>\n",
       "      <th>2</th>\n",
       "      <td>Pureit Eco Water Saver RO+UV+MF+Mineral</td>\n",
       "      <td>No result</td>\n",
       "      <td>₹12,999</td>\n",
       "      <td>https://www.amazon.in/dp/B08BJN4MP3?tag=htdigi...</td>\n",
       "    </tr>\n",
       "    <tr>\n",
       "      <th>3</th>\n",
       "      <td>Urban Company Native M2 Water Purifier</td>\n",
       "      <td>RO+UV+Copper+Alkaline</td>\n",
       "      <td>₹18,499</td>\n",
       "      <td>https://www.amazon.in/dp/B0D7HG2GZD?tag=htdigi...</td>\n",
       "    </tr>\n",
       "    <tr>\n",
       "      <th>4</th>\n",
       "      <td>AO Smith Z5 Pro RO Alkaline Water Purifier Wit...</td>\n",
       "      <td>RO Purifier With Advanced 8-stage Purification...</td>\n",
       "      <td>₹15,999</td>\n",
       "      <td>https://www.amazon.in/dp/B0D1XL2D78?tag=htdigi...</td>\n",
       "    </tr>\n",
       "  </tbody>\n",
       "</table>\n",
       "</div>"
      ],
      "text/plain": [
       "                                                Name  \\\n",
       "0  Aquaguard Marvel NXT 8-Stage Alkaline Tech, St...   \n",
       "1            KENT Supreme Alkaline RO Water Purifier   \n",
       "2            Pureit Eco Water Saver RO+UV+MF+Mineral   \n",
       "3             Urban Company Native M2 Water Purifier   \n",
       "4  AO Smith Z5 Pro RO Alkaline Water Purifier Wit...   \n",
       "\n",
       "                                            Features    Price  \\\n",
       "0                          RO+UV+Alkaline Boost Tech  ₹14,999   \n",
       "1  Advanced RO Tech for Sabse Shudh Paani, RO+UV+...  ₹14,499   \n",
       "2                                          No result  ₹12,999   \n",
       "3                              RO+UV+Copper+Alkaline  ₹18,499   \n",
       "4  RO Purifier With Advanced 8-stage Purification...  ₹15,999   \n",
       "\n",
       "                                         Amazon link  \n",
       "0  https://www.amazon.in/dp/B0CJJ2CPXX?tag=htdigi...  \n",
       "1  https://www.amazon.in/dp/B09F2FW4ZK?tag=htdigi...  \n",
       "2  https://www.amazon.in/dp/B08BJN4MP3?tag=htdigi...  \n",
       "3  https://www.amazon.in/dp/B0D7HG2GZD?tag=htdigi...  \n",
       "4  https://www.amazon.in/dp/B0D1XL2D78?tag=htdigi...  "
      ]
     },
     "execution_count": 46,
     "metadata": {},
     "output_type": "execute_result"
    }
   ],
   "source": [
    "df"
   ]
  },
  {
   "cell_type": "code",
   "execution_count": 47,
   "id": "394bf4b2-6735-4ce4-901e-624e82c37b57",
   "metadata": {},
   "outputs": [
    {
     "data": {
      "text/plain": [
       "Name           Aquaguard Marvel NXT 8-Stage Alkaline Tech, St...\n",
       "Features                               RO+UV+Alkaline Boost Tech\n",
       "Price                                                    ₹14,999\n",
       "Amazon link    https://www.amazon.in/dp/B0CJJ2CPXX?tag=htdigi...\n",
       "Name: 0, dtype: object"
      ]
     },
     "execution_count": 47,
     "metadata": {},
     "output_type": "execute_result"
    }
   ],
   "source": [
    "df.iloc[0]"
   ]
  },
  {
   "cell_type": "code",
   "execution_count": null,
   "id": "8f08ece0-96b9-49ac-aa60-b6958ab8dfb8",
   "metadata": {},
   "outputs": [],
   "source": []
  },
  {
   "cell_type": "code",
   "execution_count": null,
   "id": "ed1dbd04",
   "metadata": {},
   "outputs": [],
   "source": []
  }
 ],
 "metadata": {
  "kernelspec": {
   "display_name": ".venv",
   "language": "python",
   "name": "python3"
  },
  "language_info": {
   "codemirror_mode": {
    "name": "ipython",
    "version": 3
   },
   "file_extension": ".py",
   "mimetype": "text/x-python",
   "name": "python",
   "nbconvert_exporter": "python",
   "pygments_lexer": "ipython3",
   "version": "3.12.1"
  }
 },
 "nbformat": 4,
 "nbformat_minor": 5
}
